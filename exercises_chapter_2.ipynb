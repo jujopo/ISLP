{
 "cells": [
  {
   "cell_type": "markdown",
   "id": "e571eeda",
   "metadata": {},
   "source": [
    "# Exercises Chapter 2"
   ]
  },
  {
   "cell_type": "markdown",
   "id": "9c9089b5",
   "metadata": {},
   "source": [
    "## Conceptual"
   ]
  },
  {
   "cell_type": "markdown",
   "id": "48e0f3a1",
   "metadata": {},
   "source": [
    "1. For each of parts (a) through (d), indicate whether we would generally expect the performance of a flexible statistical learning method to be better or worse than an inflexible method. Justify your answer"
   ]
  },
  {
   "cell_type": "markdown",
   "id": "7e760e73",
   "metadata": {},
   "source": [
    "To approach this questions we are going to have in mind that as a general rule, as we use more flexible methods, the variance will\n",
    "increase and the bias will decrease."
   ]
  },
  {
   "cell_type": "markdown",
   "id": "7a2242da",
   "metadata": {},
   "source": [
    "(a) The sample size $n$ is extremely large, and the number of predictors $p$ is small.\n",
    "\n",
    "In this case, a more flexible method would work better because we have a large sample size and a small number of predictors, this means that a flexible method would have sufficient data to model complex patterns without having the risk of overfitting, combined with the fact that a small number of predictors reduces this risk as well, this allows a more flexible method to capture relationships that more inflexible methods might miss. "
   ]
  },
  {
   "cell_type": "markdown",
   "id": "53d03b9b",
   "metadata": {},
   "source": [
    "(b) The number of predictors $p$ is extremely large, and the number of observations $n$ is small.\n",
    "\n",
    "In this case, a more inflexible method would work better than a more flexible one because we have a small number of observations and a large number of predictors, this means that fitting a more flexible method could infer relations from the observations that might not really exist in order to explain the relationships between the small amount of observations, inducing overfitting issues."
   ]
  },
  {
   "cell_type": "markdown",
   "id": "78e524b6",
   "metadata": {},
   "source": [
    "(c) The relationship between the predictors and response is highly non-linear.\n",
    "\n",
    "In this case, a more flexible method is expected to perform better since to capture the high non-linearity of this data may require more than just simple (linear) techniques provided by a linear regression or a logistic regression, and thus those methods are not appropriate, whereas more flexible methods like splines or decision trees can adapt better. "
   ]
  },
  {
   "cell_type": "markdown",
   "id": "b26822fd",
   "metadata": {},
   "source": [
    "(d) The variance of the error terms, i.e. $\\sigma^2 = Var(\\epsilon)$, is extremely high"
   ]
  },
  {
   "cell_type": "markdown",
   "id": "ac2b03f2",
   "metadata": {},
   "source": [
    "We know that in general, the more flexible the method the higher the variance and the lower the bias. Having observations with high variance of the error terms imply that we have significant noise in the data, thus more flexible methods may overfit this noise while more inflexible methods can produce simpler models that generalize better by selecting general features/patterns between the observations."
   ]
  },
  {
   "cell_type": "markdown",
   "id": "1bc00d4f",
   "metadata": {},
   "source": []
  }
 ],
 "metadata": {
  "language_info": {
   "name": "python"
  }
 },
 "nbformat": 4,
 "nbformat_minor": 5
}
