{
 "cells": [
  {
   "cell_type": "markdown",
   "id": "e571eeda",
   "metadata": {},
   "source": [
    "# Exercises Chapter 2"
   ]
  },
  {
   "cell_type": "markdown",
   "id": "9c9089b5",
   "metadata": {},
   "source": [
    "## Conceptual"
   ]
  },
  {
   "cell_type": "markdown",
   "id": "48e0f3a1",
   "metadata": {},
   "source": [
    "1. For each of parts (a) through (d), indicate whether we would generally expect the performance of a flexible statistical learning method to be better or worse than an inflexible method. Justify your answer"
   ]
  },
  {
   "cell_type": "markdown",
   "id": "7e760e73",
   "metadata": {},
   "source": [
    "To approach this questions we are going to have in mind that as a general rule, as we use more flexible methods, the variance will\n",
    "increase and the bias will decrease."
   ]
  },
  {
   "cell_type": "markdown",
   "id": "7a2242da",
   "metadata": {},
   "source": [
    "(a) The sample size $n$ is extremely large, and the number of predictors $p$ is small.\n",
    "\n",
    "> In this case, a more flexible method would work better because we have a large sample size and a small number of predictors, this means that a flexible method would have sufficient data to model complex patterns without having the risk of over fitting, combined with the fact that a small number of predictors reduces this risk as well, this allows a more flexible method to capture relationships that more inflexible methods might miss. "
   ]
  },
  {
   "cell_type": "markdown",
   "id": "53d03b9b",
   "metadata": {},
   "source": [
    "(b) The number of predictors $p$ is extremely large, and the number of observations $n$ is small.\n",
    "\n",
    "> In this case, a more inflexible method would work better than a more flexible one because we have a small number of observations and a large number of predictors, this means that fitting a more flexible method could infer relations from the observations that might not really exist in order to explain the relationships between the small amount of observations, inducing over fitting issues."
   ]
  },
  {
   "cell_type": "markdown",
   "id": "78e524b6",
   "metadata": {},
   "source": [
    "(c) The relationship between the predictors and response is highly non-linear.\n",
    "\n",
    "> In this case, a more flexible method is expected to perform better since to capture the high non-linearity of this data may require more than just simple (linear) techniques provided by a linear regression or a logistic regression, and thus those methods are not appropriate, whereas more flexible methods like splines or decision trees can adapt better. "
   ]
  },
  {
   "cell_type": "markdown",
   "id": "b26822fd",
   "metadata": {},
   "source": [
    "(d) The variance of the error terms, i.e. $\\sigma^2 = Var(\\epsilon)$, is extremely high"
   ]
  },
  {
   "cell_type": "markdown",
   "id": "ac2b03f2",
   "metadata": {},
   "source": [
    "> We know that in general, the more flexible the method the higher the variance and the lower the bias. Having observations with high variance of the error terms imply that we have significant noise in the data, thus more flexible methods may over fit this noise while more inflexible methods can produce simpler models that generalize better by selecting general features/patterns between the observations."
   ]
  },
  {
   "cell_type": "markdown",
   "id": "1bc00d4f",
   "metadata": {},
   "source": [
    "2. Explain whether each scenario is a classification or regression problem, and indicate whether we are most interested in inference or prediction. Finally, provide $n$ and $p$."
   ]
  },
  {
   "cell_type": "markdown",
   "id": "41a13ba2",
   "metadata": {},
   "source": [
    "(a) We collect a set of data on the top 500 firms in the US. For each firm we record profit, number of employees, industry and the CEO salary. We are interested in understanding which factors affect CEO salary.\n",
    "\n",
    "> **Answer.** This is clearly a regression problem since we're trying to calibrate a model to explain salaries which solely have a numerical and non-categorical output. In this case, we're most interested in inference since we're trying to understand what are the factors that affect the salary of the CEOs. The number of parameters is $p=4$ (profit, number of employees, industry and the CEO salary), and the number of observations is $n=500$."
   ]
  },
  {
   "cell_type": "markdown",
   "id": "d33a6a19",
   "metadata": {},
   "source": [
    "(b) We are considering launching a new product and wish to know whether it will be a success or a failure. We collect data on 20 similar products that were previously launched. For each product we have recorded whether it was a success or failure, price charged for the product, marketing budget, competition price, and ten other variables."
   ]
  },
  {
   "cell_type": "markdown",
   "id": "66d2e71f",
   "metadata": {},
   "source": [
    "> In this case we want to classify our new product as either a success or a failure, hence it is a classification problem. And we're interested in predicting how successful the product is going to be. The number of parameters we have is $p=14$, and the number of observations we have is $n=20$."
   ]
  },
  {
   "cell_type": "markdown",
   "id": "4d660d1d",
   "metadata": {},
   "source": [
    "(C) We are interested in predicting the % change in the USD/Euro exchange rate in relation to the weekly changes in the world stock markets. Hence we collect weekly data for all of 2012. For each week we record the % change in the USD/Euro, the % change in the US market, the % change in the British market, and the % change in the German market."
   ]
  },
  {
   "cell_type": "markdown",
   "id": "03f53f52",
   "metadata": {},
   "source": [
    "> We're facing a regression problem since we're trying to come up with a real number from data that's purely numerical (i.e., we're trying to estimate a continuous value). In this set-up we are interested in prediction and the number of available parameters is $p=4$ and the number of observations is 52 weeks. "
   ]
  },
  {
   "cell_type": "markdown",
   "id": "090c1efd",
   "metadata": {},
   "source": []
  }
 ],
 "metadata": {
  "kernelspec": {
   "display_name": "Python 3",
   "language": "python",
   "name": "python3"
  },
  "language_info": {
   "name": "python",
   "version": "3.12.0"
  }
 },
 "nbformat": 4,
 "nbformat_minor": 5
}
